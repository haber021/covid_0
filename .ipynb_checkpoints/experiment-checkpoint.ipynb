{
 "cells": [
  {
   "cell_type": "code",
   "execution_count": 1,
   "id": "cded6e3f",
   "metadata": {},
   "outputs": [],
   "source": [
    "import pandas as pd\n",
    "import numpy as np\n",
    "import matplotlib.pyplot as plt\n",
    "import seaborn as sns\n",
    "sns.set_style(style=\"darkgrid\")# \"whitegrid\")\n",
    "%matplotlib inline "
   ]
  },
  {
   "cell_type": "code",
   "execution_count": 2,
   "id": "beec263e",
   "metadata": {},
   "outputs": [
    {
     "data": {
      "text/html": [
       "<div>\n",
       "<style scoped>\n",
       "    .dataframe tbody tr th:only-of-type {\n",
       "        vertical-align: middle;\n",
       "    }\n",
       "\n",
       "    .dataframe tbody tr th {\n",
       "        vertical-align: top;\n",
       "    }\n",
       "\n",
       "    .dataframe thead th {\n",
       "        text-align: right;\n",
       "    }\n",
       "</style>\n",
       "<table border=\"1\" class=\"dataframe\">\n",
       "  <thead>\n",
       "    <tr style=\"text-align: right;\">\n",
       "      <th></th>\n",
       "      <th>CaseCode</th>\n",
       "      <th>Age</th>\n",
       "      <th>AgeGroup</th>\n",
       "      <th>Sex</th>\n",
       "      <th>DateSpecimen</th>\n",
       "      <th>DateResultRelease</th>\n",
       "      <th>DateRepConf</th>\n",
       "      <th>DateDied</th>\n",
       "      <th>DateRecover</th>\n",
       "      <th>RemovalType</th>\n",
       "      <th>...</th>\n",
       "      <th>ProvRes</th>\n",
       "      <th>CityMunRes</th>\n",
       "      <th>CityMuniPSGC</th>\n",
       "      <th>BarangayRes</th>\n",
       "      <th>BarangayPSGC</th>\n",
       "      <th>HealthStatus</th>\n",
       "      <th>Quarantined</th>\n",
       "      <th>DateOnset</th>\n",
       "      <th>Pregnanttab</th>\n",
       "      <th>ValidationStatus</th>\n",
       "    </tr>\n",
       "  </thead>\n",
       "  <tbody>\n",
       "    <tr>\n",
       "      <th>0</th>\n",
       "      <td>C46369460</td>\n",
       "      <td>23.0</td>\n",
       "      <td>20 to 24</td>\n",
       "      <td>MALE</td>\n",
       "      <td>2022-01-07</td>\n",
       "      <td>2022-01-08</td>\n",
       "      <td>2022-01-11</td>\n",
       "      <td>NaN</td>\n",
       "      <td>NaN</td>\n",
       "      <td>RECOVERED</td>\n",
       "      <td>...</td>\n",
       "      <td>NCR</td>\n",
       "      <td>CITY OF PARAÑAQUE</td>\n",
       "      <td>PH137604000</td>\n",
       "      <td>B. F. HOMES</td>\n",
       "      <td>PH137604007</td>\n",
       "      <td>RECOVERED</td>\n",
       "      <td>NO</td>\n",
       "      <td>NaN</td>\n",
       "      <td>NaN</td>\n",
       "      <td>Health Status is \"Recovered\", but no Date Reco...</td>\n",
       "    </tr>\n",
       "    <tr>\n",
       "      <th>1</th>\n",
       "      <td>C69025406</td>\n",
       "      <td>7.0</td>\n",
       "      <td>5 to 9</td>\n",
       "      <td>FEMALE</td>\n",
       "      <td>2022-01-06</td>\n",
       "      <td>2022-01-08</td>\n",
       "      <td>2022-01-11</td>\n",
       "      <td>NaN</td>\n",
       "      <td>NaN</td>\n",
       "      <td>RECOVERED</td>\n",
       "      <td>...</td>\n",
       "      <td>RIZAL</td>\n",
       "      <td>ANGONO</td>\n",
       "      <td>PH045801000</td>\n",
       "      <td>SAN ISIDRO</td>\n",
       "      <td>PH045801009</td>\n",
       "      <td>RECOVERED</td>\n",
       "      <td>NO</td>\n",
       "      <td>2022-01-06</td>\n",
       "      <td>NO</td>\n",
       "      <td>Health Status is \"Recovered\", but no Date Reco...</td>\n",
       "    </tr>\n",
       "    <tr>\n",
       "      <th>2</th>\n",
       "      <td>C6572422</td>\n",
       "      <td>27.0</td>\n",
       "      <td>25 to 29</td>\n",
       "      <td>FEMALE</td>\n",
       "      <td>2022-01-06</td>\n",
       "      <td>2022-01-08</td>\n",
       "      <td>2022-01-11</td>\n",
       "      <td>NaN</td>\n",
       "      <td>NaN</td>\n",
       "      <td>RECOVERED</td>\n",
       "      <td>...</td>\n",
       "      <td>PAMPANGA</td>\n",
       "      <td>SANTA RITA</td>\n",
       "      <td>PH035420000</td>\n",
       "      <td>SAN VICENTE</td>\n",
       "      <td>PH035420009</td>\n",
       "      <td>RECOVERED</td>\n",
       "      <td>NO</td>\n",
       "      <td>NaN</td>\n",
       "      <td>NO</td>\n",
       "      <td>Removal Type is \"Recovered\", but no Recovered ...</td>\n",
       "    </tr>\n",
       "    <tr>\n",
       "      <th>3</th>\n",
       "      <td>C16040871</td>\n",
       "      <td>17.0</td>\n",
       "      <td>15 to 19</td>\n",
       "      <td>FEMALE</td>\n",
       "      <td>2022-01-08</td>\n",
       "      <td>2022-01-09</td>\n",
       "      <td>2022-01-11</td>\n",
       "      <td>NaN</td>\n",
       "      <td>NaN</td>\n",
       "      <td>RECOVERED</td>\n",
       "      <td>...</td>\n",
       "      <td>CEBU</td>\n",
       "      <td>CEBU CITY (CAPITAL)</td>\n",
       "      <td>PH072217000</td>\n",
       "      <td>PARDO (POB.)</td>\n",
       "      <td>PH072217053</td>\n",
       "      <td>RECOVERED</td>\n",
       "      <td>NO</td>\n",
       "      <td>NaN</td>\n",
       "      <td>NO</td>\n",
       "      <td>Health Status is \"Recovered\", but no Date Reco...</td>\n",
       "    </tr>\n",
       "    <tr>\n",
       "      <th>4</th>\n",
       "      <td>C66405262</td>\n",
       "      <td>41.0</td>\n",
       "      <td>40 to 44</td>\n",
       "      <td>MALE</td>\n",
       "      <td>2022-01-08</td>\n",
       "      <td>2022-01-09</td>\n",
       "      <td>2022-01-11</td>\n",
       "      <td>NaN</td>\n",
       "      <td>NaN</td>\n",
       "      <td>RECOVERED</td>\n",
       "      <td>...</td>\n",
       "      <td>NCR</td>\n",
       "      <td>CITY OF MAKATI</td>\n",
       "      <td>PH137602000</td>\n",
       "      <td>SINGKAMAS</td>\n",
       "      <td>PH137602027</td>\n",
       "      <td>RECOVERED</td>\n",
       "      <td>NO</td>\n",
       "      <td>NaN</td>\n",
       "      <td>NaN</td>\n",
       "      <td>Health Status is \"Recovered\", but no Date Reco...</td>\n",
       "    </tr>\n",
       "  </tbody>\n",
       "</table>\n",
       "<p>5 rows × 22 columns</p>\n",
       "</div>"
      ],
      "text/plain": [
       "    CaseCode   Age  AgeGroup     Sex DateSpecimen DateResultRelease  \\\n",
       "0  C46369460  23.0  20 to 24    MALE   2022-01-07        2022-01-08   \n",
       "1  C69025406   7.0    5 to 9  FEMALE   2022-01-06        2022-01-08   \n",
       "2   C6572422  27.0  25 to 29  FEMALE   2022-01-06        2022-01-08   \n",
       "3  C16040871  17.0  15 to 19  FEMALE   2022-01-08        2022-01-09   \n",
       "4  C66405262  41.0  40 to 44    MALE   2022-01-08        2022-01-09   \n",
       "\n",
       "  DateRepConf DateDied DateRecover RemovalType  ...   ProvRes  \\\n",
       "0  2022-01-11      NaN         NaN   RECOVERED  ...       NCR   \n",
       "1  2022-01-11      NaN         NaN   RECOVERED  ...     RIZAL   \n",
       "2  2022-01-11      NaN         NaN   RECOVERED  ...  PAMPANGA   \n",
       "3  2022-01-11      NaN         NaN   RECOVERED  ...      CEBU   \n",
       "4  2022-01-11      NaN         NaN   RECOVERED  ...       NCR   \n",
       "\n",
       "            CityMunRes CityMuniPSGC   BarangayRes BarangayPSGC HealthStatus  \\\n",
       "0    CITY OF PARAÑAQUE  PH137604000   B. F. HOMES  PH137604007    RECOVERED   \n",
       "1               ANGONO  PH045801000    SAN ISIDRO  PH045801009    RECOVERED   \n",
       "2           SANTA RITA  PH035420000   SAN VICENTE  PH035420009    RECOVERED   \n",
       "3  CEBU CITY (CAPITAL)  PH072217000  PARDO (POB.)  PH072217053    RECOVERED   \n",
       "4       CITY OF MAKATI  PH137602000     SINGKAMAS  PH137602027    RECOVERED   \n",
       "\n",
       "  Quarantined   DateOnset Pregnanttab  \\\n",
       "0          NO         NaN         NaN   \n",
       "1          NO  2022-01-06          NO   \n",
       "2          NO         NaN          NO   \n",
       "3          NO         NaN          NO   \n",
       "4          NO         NaN         NaN   \n",
       "\n",
       "                                    ValidationStatus  \n",
       "0  Health Status is \"Recovered\", but no Date Reco...  \n",
       "1  Health Status is \"Recovered\", but no Date Reco...  \n",
       "2  Removal Type is \"Recovered\", but no Recovered ...  \n",
       "3  Health Status is \"Recovered\", but no Date Reco...  \n",
       "4  Health Status is \"Recovered\", but no Date Reco...  \n",
       "\n",
       "[5 rows x 22 columns]"
      ]
     },
     "execution_count": 2,
     "metadata": {},
     "output_type": "execute_result"
    }
   ],
   "source": [
    "df_group = pd.read_csv('Case Information_batch_3.csv')\n",
    "df_group.head()"
   ]
  },
  {
   "cell_type": "code",
   "execution_count": 3,
   "id": "d94fbb68",
   "metadata": {},
   "outputs": [],
   "source": [
    "dp_colm = group = pd.read_csv('Case Information_batch_3.csv', usecols = [ 'CaseCode', 'Age', 'Sex', 'ProvRes', 'CityMunRes', 'BarangayRes', 'HealthStatus' ], index_col = 'CaseCode')"
   ]
  },
  {
   "cell_type": "code",
   "execution_count": 4,
   "id": "66d1cb9b",
   "metadata": {},
   "outputs": [
    {
     "data": {
      "text/html": [
       "<div>\n",
       "<style scoped>\n",
       "    .dataframe tbody tr th:only-of-type {\n",
       "        vertical-align: middle;\n",
       "    }\n",
       "\n",
       "    .dataframe tbody tr th {\n",
       "        vertical-align: top;\n",
       "    }\n",
       "\n",
       "    .dataframe thead th {\n",
       "        text-align: right;\n",
       "    }\n",
       "</style>\n",
       "<table border=\"1\" class=\"dataframe\">\n",
       "  <thead>\n",
       "    <tr style=\"text-align: right;\">\n",
       "      <th></th>\n",
       "      <th>Age</th>\n",
       "      <th>Sex</th>\n",
       "      <th>ProvRes</th>\n",
       "      <th>CityMunRes</th>\n",
       "      <th>BarangayRes</th>\n",
       "      <th>HealthStatus</th>\n",
       "    </tr>\n",
       "    <tr>\n",
       "      <th>CaseCode</th>\n",
       "      <th></th>\n",
       "      <th></th>\n",
       "      <th></th>\n",
       "      <th></th>\n",
       "      <th></th>\n",
       "      <th></th>\n",
       "    </tr>\n",
       "  </thead>\n",
       "  <tbody>\n",
       "    <tr>\n",
       "      <th>C46369460</th>\n",
       "      <td>23.0</td>\n",
       "      <td>MALE</td>\n",
       "      <td>NCR</td>\n",
       "      <td>CITY OF PARAÑAQUE</td>\n",
       "      <td>B. F. HOMES</td>\n",
       "      <td>RECOVERED</td>\n",
       "    </tr>\n",
       "    <tr>\n",
       "      <th>C69025406</th>\n",
       "      <td>7.0</td>\n",
       "      <td>FEMALE</td>\n",
       "      <td>RIZAL</td>\n",
       "      <td>ANGONO</td>\n",
       "      <td>SAN ISIDRO</td>\n",
       "      <td>RECOVERED</td>\n",
       "    </tr>\n",
       "    <tr>\n",
       "      <th>C6572422</th>\n",
       "      <td>27.0</td>\n",
       "      <td>FEMALE</td>\n",
       "      <td>PAMPANGA</td>\n",
       "      <td>SANTA RITA</td>\n",
       "      <td>SAN VICENTE</td>\n",
       "      <td>RECOVERED</td>\n",
       "    </tr>\n",
       "    <tr>\n",
       "      <th>C16040871</th>\n",
       "      <td>17.0</td>\n",
       "      <td>FEMALE</td>\n",
       "      <td>CEBU</td>\n",
       "      <td>CEBU CITY (CAPITAL)</td>\n",
       "      <td>PARDO (POB.)</td>\n",
       "      <td>RECOVERED</td>\n",
       "    </tr>\n",
       "    <tr>\n",
       "      <th>C66405262</th>\n",
       "      <td>41.0</td>\n",
       "      <td>MALE</td>\n",
       "      <td>NCR</td>\n",
       "      <td>CITY OF MAKATI</td>\n",
       "      <td>SINGKAMAS</td>\n",
       "      <td>RECOVERED</td>\n",
       "    </tr>\n",
       "    <tr>\n",
       "      <th>...</th>\n",
       "      <td>...</td>\n",
       "      <td>...</td>\n",
       "      <td>...</td>\n",
       "      <td>...</td>\n",
       "      <td>...</td>\n",
       "      <td>...</td>\n",
       "    </tr>\n",
       "    <tr>\n",
       "      <th>C32778890</th>\n",
       "      <td>50.0</td>\n",
       "      <td>MALE</td>\n",
       "      <td>NCR</td>\n",
       "      <td>CITY OF PARAÑAQUE</td>\n",
       "      <td>TAMBO</td>\n",
       "      <td>MILD</td>\n",
       "    </tr>\n",
       "    <tr>\n",
       "      <th>C28728958</th>\n",
       "      <td>36.0</td>\n",
       "      <td>MALE</td>\n",
       "      <td>NCR</td>\n",
       "      <td>CITY OF MAKATI</td>\n",
       "      <td>PIO DEL PILAR</td>\n",
       "      <td>MILD</td>\n",
       "    </tr>\n",
       "    <tr>\n",
       "      <th>C95368764</th>\n",
       "      <td>37.0</td>\n",
       "      <td>MALE</td>\n",
       "      <td>LEYTE</td>\n",
       "      <td>PALO</td>\n",
       "      <td>CAMPETIK</td>\n",
       "      <td>MILD</td>\n",
       "    </tr>\n",
       "    <tr>\n",
       "      <th>C59216411</th>\n",
       "      <td>10.0</td>\n",
       "      <td>FEMALE</td>\n",
       "      <td>KALINGA</td>\n",
       "      <td>PASIL</td>\n",
       "      <td>BALENCIAGAO SUR</td>\n",
       "      <td>MILD</td>\n",
       "    </tr>\n",
       "    <tr>\n",
       "      <th>C77787290</th>\n",
       "      <td>38.0</td>\n",
       "      <td>FEMALE</td>\n",
       "      <td>LAGUNA</td>\n",
       "      <td>CITY OF CALAMBA</td>\n",
       "      <td>MAUNONG</td>\n",
       "      <td>MILD</td>\n",
       "    </tr>\n",
       "  </tbody>\n",
       "</table>\n",
       "<p>387524 rows × 6 columns</p>\n",
       "</div>"
      ],
      "text/plain": [
       "            Age     Sex   ProvRes           CityMunRes      BarangayRes  \\\n",
       "CaseCode                                                                  \n",
       "C46369460  23.0    MALE       NCR    CITY OF PARAÑAQUE      B. F. HOMES   \n",
       "C69025406   7.0  FEMALE     RIZAL               ANGONO       SAN ISIDRO   \n",
       "C6572422   27.0  FEMALE  PAMPANGA           SANTA RITA      SAN VICENTE   \n",
       "C16040871  17.0  FEMALE      CEBU  CEBU CITY (CAPITAL)     PARDO (POB.)   \n",
       "C66405262  41.0    MALE       NCR       CITY OF MAKATI        SINGKAMAS   \n",
       "...         ...     ...       ...                  ...              ...   \n",
       "C32778890  50.0    MALE       NCR    CITY OF PARAÑAQUE            TAMBO   \n",
       "C28728958  36.0    MALE       NCR       CITY OF MAKATI    PIO DEL PILAR   \n",
       "C95368764  37.0    MALE     LEYTE                 PALO         CAMPETIK   \n",
       "C59216411  10.0  FEMALE   KALINGA                PASIL  BALENCIAGAO SUR   \n",
       "C77787290  38.0  FEMALE    LAGUNA      CITY OF CALAMBA          MAUNONG   \n",
       "\n",
       "          HealthStatus  \n",
       "CaseCode                \n",
       "C46369460    RECOVERED  \n",
       "C69025406    RECOVERED  \n",
       "C6572422     RECOVERED  \n",
       "C16040871    RECOVERED  \n",
       "C66405262    RECOVERED  \n",
       "...                ...  \n",
       "C32778890         MILD  \n",
       "C28728958         MILD  \n",
       "C95368764         MILD  \n",
       "C59216411         MILD  \n",
       "C77787290         MILD  \n",
       "\n",
       "[387524 rows x 6 columns]"
      ]
     },
     "execution_count": 4,
     "metadata": {},
     "output_type": "execute_result"
    }
   ],
   "source": [
    "dp_colm"
   ]
  },
  {
   "cell_type": "code",
   "execution_count": 5,
   "id": "0e818e70",
   "metadata": {},
   "outputs": [
    {
     "data": {
      "text/html": [
       "<div>\n",
       "<style scoped>\n",
       "    .dataframe tbody tr th:only-of-type {\n",
       "        vertical-align: middle;\n",
       "    }\n",
       "\n",
       "    .dataframe tbody tr th {\n",
       "        vertical-align: top;\n",
       "    }\n",
       "\n",
       "    .dataframe thead th {\n",
       "        text-align: right;\n",
       "    }\n",
       "</style>\n",
       "<table border=\"1\" class=\"dataframe\">\n",
       "  <thead>\n",
       "    <tr style=\"text-align: right;\">\n",
       "      <th></th>\n",
       "      <th>Age</th>\n",
       "      <th>Sex</th>\n",
       "      <th>ProvRes</th>\n",
       "      <th>CityMunRes</th>\n",
       "      <th>BarangayRes</th>\n",
       "      <th>HealthStatus</th>\n",
       "    </tr>\n",
       "    <tr>\n",
       "      <th>CaseCode</th>\n",
       "      <th></th>\n",
       "      <th></th>\n",
       "      <th></th>\n",
       "      <th></th>\n",
       "      <th></th>\n",
       "      <th></th>\n",
       "    </tr>\n",
       "  </thead>\n",
       "  <tbody>\n",
       "    <tr>\n",
       "      <th>C1262675</th>\n",
       "      <td>26.0</td>\n",
       "      <td>MALE</td>\n",
       "      <td>ILOCOS SUR</td>\n",
       "      <td>CERVANTES</td>\n",
       "      <td>COMILLAS NORTH</td>\n",
       "      <td>RECOVERED</td>\n",
       "    </tr>\n",
       "    <tr>\n",
       "      <th>C43874335</th>\n",
       "      <td>45.0</td>\n",
       "      <td>FEMALE</td>\n",
       "      <td>ILOCOS SUR</td>\n",
       "      <td>CITY OF VIGAN (CAPITAL)</td>\n",
       "      <td>BARANGAY V (POB.)</td>\n",
       "      <td>RECOVERED</td>\n",
       "    </tr>\n",
       "    <tr>\n",
       "      <th>C40740561</th>\n",
       "      <td>37.0</td>\n",
       "      <td>FEMALE</td>\n",
       "      <td>ILOCOS SUR</td>\n",
       "      <td>CITY OF VIGAN (CAPITAL)</td>\n",
       "      <td>BARANGAY V (POB.)</td>\n",
       "      <td>RECOVERED</td>\n",
       "    </tr>\n",
       "    <tr>\n",
       "      <th>C87078322</th>\n",
       "      <td>21.0</td>\n",
       "      <td>FEMALE</td>\n",
       "      <td>ILOCOS SUR</td>\n",
       "      <td>NARVACAN</td>\n",
       "      <td>DINALAOAN</td>\n",
       "      <td>RECOVERED</td>\n",
       "    </tr>\n",
       "    <tr>\n",
       "      <th>C39174719</th>\n",
       "      <td>24.0</td>\n",
       "      <td>FEMALE</td>\n",
       "      <td>ILOCOS SUR</td>\n",
       "      <td>CITY OF CANDON</td>\n",
       "      <td>CALONGBUYAN</td>\n",
       "      <td>RECOVERED</td>\n",
       "    </tr>\n",
       "  </tbody>\n",
       "</table>\n",
       "</div>"
      ],
      "text/plain": [
       "            Age     Sex     ProvRes               CityMunRes  \\\n",
       "CaseCode                                                       \n",
       "C1262675   26.0    MALE  ILOCOS SUR                CERVANTES   \n",
       "C43874335  45.0  FEMALE  ILOCOS SUR  CITY OF VIGAN (CAPITAL)   \n",
       "C40740561  37.0  FEMALE  ILOCOS SUR  CITY OF VIGAN (CAPITAL)   \n",
       "C87078322  21.0  FEMALE  ILOCOS SUR                 NARVACAN   \n",
       "C39174719  24.0  FEMALE  ILOCOS SUR           CITY OF CANDON   \n",
       "\n",
       "                 BarangayRes HealthStatus  \n",
       "CaseCode                                   \n",
       "C1262675      COMILLAS NORTH    RECOVERED  \n",
       "C43874335  BARANGAY V (POB.)    RECOVERED  \n",
       "C40740561  BARANGAY V (POB.)    RECOVERED  \n",
       "C87078322          DINALAOAN    RECOVERED  \n",
       "C39174719        CALONGBUYAN    RECOVERED  "
      ]
     },
     "execution_count": 5,
     "metadata": {},
     "output_type": "execute_result"
    }
   ],
   "source": [
    "df_data = (dp_colm[dp_colm['ProvRes'] == 'ILOCOS SUR'])\n",
    "df_data.head()"
   ]
  },
  {
   "cell_type": "code",
   "execution_count": 6,
   "id": "a49462bd",
   "metadata": {},
   "outputs": [
    {
     "data": {
      "text/plain": [
       "MILD            83.30\n",
       "RECOVERED       14.72\n",
       "ASYMPTOMATIC     1.86\n",
       "DIED             0.06\n",
       "MODERATE         0.06\n",
       "Name: HealthStatus, dtype: float64"
      ]
     },
     "execution_count": 6,
     "metadata": {},
     "output_type": "execute_result"
    }
   ],
   "source": [
    "per_sur_nonsur = (df_data[\"HealthStatus\"].value_counts()/df_data.shape[0]*100).round(2)\n",
    "per_sur_nonsur"
   ]
  },
  {
   "cell_type": "code",
   "execution_count": 7,
   "id": "933454b0",
   "metadata": {},
   "outputs": [
    {
     "data": {
      "text/plain": [
       "CITY OF VIGAN (CAPITAL)            21.69\n",
       "BANTAY                              8.25\n",
       "CABUGAO                             7.93\n",
       "SINAIT                              6.78\n",
       "NARVACAN                            6.40\n",
       "CAOAYAN                             5.31\n",
       "CITY OF CANDON                      4.41\n",
       "TAGUDIN                             3.65\n",
       "SANTA MARIA                         3.52\n",
       "SAN VICENTE                         3.45\n",
       "SANTA                               2.94\n",
       "SANTA CATALINA                      2.82\n",
       "SANTA CRUZ                          2.56\n",
       "SANTIAGO                            2.56\n",
       "SAN ESTEBAN                         2.11\n",
       "SAN JUAN (LAPOG)                    2.05\n",
       "SANTO DOMINGO                       1.98\n",
       "SAN ILDEFONSO                       1.60\n",
       "MAGSINGAL                           1.60\n",
       "SALCEDO (BAUGEN)                    1.47\n",
       "NAGBUKEL                            1.09\n",
       "SANTA LUCIA                         1.02\n",
       "CERVANTES                           0.90\n",
       "SUYO                                0.83\n",
       "GALIMUYOD                           0.77\n",
       "QUIRINO (ANGKAKI)                   0.38\n",
       "BURGOS                              0.38\n",
       "BANAYOYO                            0.38\n",
       "LIDLIDDA                            0.32\n",
       "ALILEM                              0.19\n",
       "SIGAY                               0.19\n",
       "SUGPON                              0.13\n",
       "GREGORIO DEL PILAR (CONCEPCION)     0.13\n",
       "SAN EMILIO                          0.06\n",
       "Name: CityMunRes, dtype: float64"
      ]
     },
     "execution_count": 7,
     "metadata": {},
     "output_type": "execute_result"
    }
   ],
   "source": [
    "per_sur_nonsur = (df_data[\"CityMunRes\"].value_counts()/df_data.shape[0]*100).round(2)\n",
    "per_sur_nonsur"
   ]
  },
  {
   "cell_type": "code",
   "execution_count": 25,
   "id": "f889b2ec",
   "metadata": {},
   "outputs": [
    {
     "data": {
      "text/plain": [
       "POBLACION           1.86\n",
       "SAN JULIAN SUR      1.73\n",
       "BALALENG            1.66\n",
       "BONIFACIO (POB.)    1.66\n",
       "RAOIS               1.47\n",
       "Name: BarangayRes, dtype: float64"
      ]
     },
     "execution_count": 25,
     "metadata": {},
     "output_type": "execute_result"
    }
   ],
   "source": [
    "per_sur_nonsur = (df_data[\"BarangayRes\"].value_counts()/df_data.shape[0]*100).round(2)\n",
    "per_sur_nonsur.head((5))"
   ]
  },
  {
   "cell_type": "code",
   "execution_count": 9,
   "id": "be2e7066",
   "metadata": {},
   "outputs": [
    {
     "data": {
      "text/plain": [
       "FEMALE    53.61\n",
       "MALE      46.39\n",
       "Name: Sex, dtype: float64"
      ]
     },
     "execution_count": 9,
     "metadata": {},
     "output_type": "execute_result"
    }
   ],
   "source": [
    "per_sur_nonsur = (df_data[\"Sex\"].value_counts()/df_data.shape[0]*100).round(2)\n",
    "per_sur_nonsur"
   ]
  },
  {
   "cell_type": "code",
   "execution_count": 24,
   "id": "6778fb2e",
   "metadata": {},
   "outputs": [
    {
     "data": {
      "text/plain": [
       "23.0    3.45\n",
       "24.0    2.75\n",
       "30.0    2.75\n",
       "25.0    2.62\n",
       "27.0    2.56\n",
       "Name: Age, dtype: float64"
      ]
     },
     "execution_count": 24,
     "metadata": {},
     "output_type": "execute_result"
    }
   ],
   "source": [
    "per_sur_nonsur = (df_data[\"Age\"].value_counts()/df_data.shape[0]*100).round(2)\n",
    "per_sur_nonsur.head((5))"
   ]
  },
  {
   "cell_type": "code",
   "execution_count": 23,
   "id": "1bf7f83f",
   "metadata": {},
   "outputs": [
    {
     "data": {
      "text/plain": [
       "CITY OF VIGAN (CAPITAL)    21.69\n",
       "BANTAY                      8.25\n",
       "CABUGAO                     7.93\n",
       "Name: CityMunRes, dtype: float64"
      ]
     },
     "execution_count": 23,
     "metadata": {},
     "output_type": "execute_result"
    }
   ],
   "source": [
    "per_sur_nonsur = (df_data[\"CityMunRes\"].value_counts()/df_data.shape[0]*100).round(2)\n",
    "per_sur_nonsur.head((3))"
   ]
  },
  {
   "cell_type": "code",
   "execution_count": 12,
   "id": "7018b297",
   "metadata": {},
   "outputs": [
    {
     "data": {
      "text/plain": [
       "<AxesSubplot:xlabel='HealthStatus', ylabel='count'>"
      ]
     },
     "execution_count": 12,
     "metadata": {},
     "output_type": "execute_result"
    },
    {
     "data": {
      "image/png": "[encoded data removed]",
      "text/plain": [
       "<Figure size 432x288 with 1 Axes>"
      ]
     },
     "metadata": {
      "needs_background": "light"
     },
     "output_type": "display_data"
    }
   ],
   "source": [
    "sns.countplot(data=df_data,x=\"HealthStatus\")"
   ]
  },
  {
   "cell_type": "code",
   "execution_count": 13,
   "id": "fafd7118",
   "metadata": {},
   "outputs": [
    {
     "data": {
      "text/plain": [
       "<AxesSubplot:xlabel='Sex', ylabel='count'>"
      ]
     },
     "execution_count": 13,
     "metadata": {},
     "output_type": "execute_result"
    },
    {
     "data": {
      "image/png": "[encoded data removed]",
      "text/plain": [
       "<Figure size 432x288 with 1 Axes>"
      ]
     },
     "metadata": {
      "needs_background": "light"
     },
     "output_type": "display_data"
    }
   ],
   "source": [
    "sns.countplot(data=df_data,x=\"Sex\")"
   ]
  },
  {
   "cell_type": "code",
   "execution_count": 20,
   "id": "e0e28a21",
   "metadata": {},
   "outputs": [
    {
     "data": {
      "text/plain": [
       "<AxesSubplot:xlabel='CityMunRes', ylabel='count'>"
      ]
     },
     "execution_count": 20,
     "metadata": {},
     "output_type": "execute_result"
    },
    {
     "data": {
      "image/png": "[encoded data removed]",
      "text/plain": [
       "<Figure size 432x288 with 1 Axes>"
      ]
     },
     "metadata": {
      "needs_background": "light"
     },
     "output_type": "display_data"
    }
   ],
   "source": [
    "sns.countplot(data=df_data,x=\"CityMunRes\")"
   ]
  },
  {
   "cell_type": "code",
   "execution_count": 22,
   "id": "f20be150",
   "metadata": {},
   "outputs": [
    {
     "data": {
      "text/plain": [
       "<AxesSubplot:xlabel='Age', ylabel='Density'>"
      ]
     },
     "execution_count": 22,
     "metadata": {},
     "output_type": "execute_result"
    },
    {
     "data": {
      "image/png": "[encoded data removed]",
      "text/plain": [
       "<Figure size 432x288 with 1 Axes>"
      ]
     },
     "metadata": {
      "needs_background": "light"
     },
     "output_type": "display_data"
    }
   ],
   "source": [
    "sns.distplot(df_data.Age)"
   ]
  },
  {
   "cell_type": "code",
   "execution_count": 28,
   "id": "b1d9dee1",
   "metadata": {},
   "outputs": [
    {
     "data": {
      "text/plain": [
       "<AxesSubplot:xlabel='Age'>"
      ]
     },
     "execution_count": 28,
     "metadata": {},
     "output_type": "execute_result"
    },
    {
     "data": {
      "image/png": "[encoded data removed]",
      "text/plain": [
       "<Figure size 432x288 with 1 Axes>"
      ]
     },
     "metadata": {
      "needs_background": "light"
     },
     "output_type": "display_data"
    }
   ],
   "source": [
    "sns.distplot(df_data.Age, kde=False)"
   ]
  },
  {
   "cell_type": "code",
   "execution_count": 29,
   "id": "a9d32f55",
   "metadata": {},
   "outputs": [
    {
     "name": "stderr",
     "output_type": "stream",
     "text": [
      "C:\\Users\\HABER\\anaconda3\\lib\\site-packages\\seaborn\\distributions.py:2619: FutureWarning: `distplot` is a deprecated function and will be removed in a future version. Please adapt your code to use either `displot` (a figure-level function with similar flexibility) or `kdeplot` (an axes-level function for kernel density plots).\n",
      "  warnings.warn(msg, FutureWarning)\n"
     ]
    },
    {
     "data": {
      "text/plain": [
       "<AxesSubplot:xlabel='Age', ylabel='Density'>"
      ]
     },
     "execution_count": 29,
     "metadata": {},
     "output_type": "execute_result"
    },
    {
     "data": {
      "image/png": "[encoded data removed]",
      "text/plain": [
       "<Figure size 432x288 with 1 Axes>"
      ]
     },
     "metadata": {
      "needs_background": "light"
     },
     "output_type": "display_data"
    }
   ],
   "source": [
    "sns.distplot(df_data.Age, hist=False)"
   ]
  },
  {
   "cell_type": "code",
   "execution_count": 30,
   "id": "c6940d77",
   "metadata": {},
   "outputs": [
    {
     "name": "stderr",
     "output_type": "stream",
     "text": [
      "C:\\Users\\HABER\\anaconda3\\lib\\site-packages\\seaborn\\distributions.py:2619: FutureWarning: `distplot` is a deprecated function and will be removed in a future version. Please adapt your code to use either `displot` (a figure-level function with similar flexibility) or `kdeplot` (an axes-level function for kernel density plots).\n",
      "  warnings.warn(msg, FutureWarning)\n",
      "C:\\Users\\HABER\\anaconda3\\lib\\site-packages\\seaborn\\distributions.py:2103: FutureWarning: The `axis` variable is no longer used and will be removed. Instead, assign variables directly to `x` or `y`.\n",
      "  warnings.warn(msg, FutureWarning)\n"
     ]
    },
    {
     "data": {
      "text/plain": [
       "<AxesSubplot:xlabel='Age', ylabel='Density'>"
      ]
     },
     "execution_count": 30,
     "metadata": {},
     "output_type": "execute_result"
    },
    {
     "data": {
      "image/png": "[encoded data removed]",
      "text/plain": [
       "<Figure size 432x288 with 1 Axes>"
      ]
     },
     "metadata": {
      "needs_background": "light"
     },
     "output_type": "display_data"
    }
   ],
   "source": [
    "sns.distplot(df_data.Age, hist=False, rug=True)"
   ]
  },
  {
   "cell_type": "code",
   "execution_count": 34,
   "id": "6c500cb4",
   "metadata": {},
   "outputs": [
    {
     "name": "stderr",
     "output_type": "stream",
     "text": [
      "C:\\Users\\HABER\\anaconda3\\lib\\site-packages\\seaborn\\distributions.py:2619: FutureWarning: `distplot` is a deprecated function and will be removed in a future version. Please adapt your code to use either `displot` (a figure-level function with similar flexibility) or `histplot` (an axes-level function for histograms).\n",
      "  warnings.warn(msg, FutureWarning)\n",
      "C:\\Users\\HABER\\anaconda3\\lib\\site-packages\\seaborn\\distributions.py:2657: RuntimeWarning: Mean of empty slice.\n",
      "  line, = ax.plot(a.mean(), 0)\n",
      "C:\\Users\\HABER\\anaconda3\\lib\\site-packages\\numpy\\core\\_methods.py:189: RuntimeWarning: invalid value encountered in double_scalars\n",
      "  ret = ret.dtype.type(ret / rcount)\n",
      "C:\\Users\\HABER\\anaconda3\\lib\\site-packages\\seaborn\\distributions.py:2103: FutureWarning: The `axis` variable is no longer used and will be removed. Instead, assign variables directly to `x` or `y`.\n",
      "  warnings.warn(msg, FutureWarning)\n"
     ]
    },
    {
     "data": {
      "text/plain": [
       "<AxesSubplot:xlabel='Age'>"
      ]
     },
     "execution_count": 34,
     "metadata": {},
     "output_type": "execute_result"
    },
    {
     "data": {
      "image/png": "[encoded data removed]",
      "text/plain": [
       "<Figure size 432x288 with 1 Axes>"
      ]
     },
     "metadata": {
      "needs_background": "light"
     },
     "output_type": "display_data"
    }
   ],
   "source": [
    "sns.distplot(df_data.Age[df_data.Age == \"50.0\"],kde=False,rug=True)"
   ]
  },
  {
   "cell_type": "code",
   "execution_count": null,
   "id": "03872b69",
   "metadata": {},
   "outputs": [],
   "source": []
  }
 ],
 "metadata": {
  "kernelspec": {
   "display_name": "Python 3",
   "language": "python",
   "name": "python3"
  },
  "language_info": {
   "codemirror_mode": {
    "name": "ipython",
    "version": 3
   },
   "file_extension": ".py",
   "mimetype": "text/x-python",
   "name": "python",
   "nbconvert_exporter": "python",
   "pygments_lexer": "ipython3",
   "version": "3.8.8"
  }
 },
 "nbformat": 4,
 "nbformat_minor": 5
}
